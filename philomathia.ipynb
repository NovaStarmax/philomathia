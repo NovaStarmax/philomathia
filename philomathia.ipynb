{
 "cells": [
  {
   "cell_type": "markdown",
   "metadata": {
    "id": "mYr0YGpbJpWY"
   },
   "source": [
    "# Philomathia\n"
   ]
  },
  {
   "cell_type": "markdown",
   "metadata": {
    "id": "DDnH8RevvQ2-"
   },
   "source": [
    "Sommaire :\n",
    "* Algèbre linéaire\n",
    "* Probabilités et Statistique\n",
    "* Calcul de dérivée\n",
    "* Aller plus loin..."
   ]
  },
  {
   "cell_type": "markdown",
   "metadata": {
    "id": "mqYa4P1AYLF8"
   },
   "source": [
    "**Pourquoi Python pour les mathématiques ?**\n",
    "\n",
    "Le langage Python est un langage généraliste, offrant des bibliothèques puissantes en calcul numérique (NumPy, SciPy, SymPy, Matplotlib,...), facilitant les opérations mathématiques plus ou moins complexes, l'analyse statistique et la visualisation des données. Son interactivité via des environnements comme Jupyter Notebook favorise un processus de développement itératif.\n",
    "La communauté active de développeurs et les nombreuses ressources en ligne font de Python un outil incontournable."
   ]
  },
  {
   "cell_type": "markdown",
   "metadata": {
    "id": "hdEXFBsImr5q"
   },
   "source": [
    "**Pourquoi ce projet ?**\n",
    "\n",
    "Dans ce projet, nous allons aborder des notions de mathématiques basiques nécessaires à la prochaine Unit, le Machine Learning. Pas de panique, nous n'allons rien inventer, nous allons simplement utiliser Python afin de manipuler des vecteurs, des matrices, des probabilités, des graphes faire des simulations et d'autres calculs sympatiques !\n",
    "\n",
    "\\\n",
    "\n",
    "**Il n'est bien sûr pas question d'apprendre par coeur les notions apprises dans ce sujet, mais de s'en servir comme un guide pour d'éventuels futurs questionnements.**\n",
    "\n",
    "\\\n",
    "\n",
    "**Merci de lire et de répondre attentivement aux questions ci-dessous. Appuyez-vous sur les ressources de la base de connaissances.**"
   ]
  },
  {
   "cell_type": "markdown",
   "metadata": {
    "id": "s_6BNQr_fGrq"
   },
   "source": [
    "# Librairies utilisées"
   ]
  },
  {
   "cell_type": "markdown",
   "metadata": {},
   "source": []
  },
  {
   "cell_type": "code",
   "execution_count": 313,
   "metadata": {
    "id": "2WjXfJYMi0aA"
   },
   "outputs": [],
   "source": [
    "import numpy as np\n",
    "import pandas as pd\n",
    "import sympy as sp\n",
    "\n",
    "import matplotlib.pyplot as plt\n",
    "\n",
    "from sklearn.datasets import load_wine\n"
   ]
  },
  {
   "cell_type": "markdown",
   "metadata": {
    "id": "tMJvSpupa59E"
   },
   "source": [
    "# Algèbre linéaire\n",
    "Vous devrez exclusivement utiliser la librairie `numpy` dans la section suivante."
   ]
  },
  {
   "cell_type": "markdown",
   "metadata": {
    "id": "ralGJ7YaHXLm"
   },
   "source": [
    "## **Job 0**\n",
    "\n",
    "1. Créez le vecteur ligne $v = (4, 1, 9)$\n",
    "2. Additionnez, multipliez et divisez le vecteur $v$ par $2$  \n",
    "\n"
   ]
  },
  {
   "cell_type": "markdown",
   "metadata": {},
   "source": [
    "1) "
   ]
  },
  {
   "cell_type": "code",
   "execution_count": 35,
   "metadata": {},
   "outputs": [
    {
     "data": {
      "text/plain": [
       "(array([4, 1, 9]), (3,))"
      ]
     },
     "execution_count": 35,
     "metadata": {},
     "output_type": "execute_result"
    }
   ],
   "source": [
    "v = np.array([4, 1, 9])\n",
    "v"
   ]
  },
  {
   "cell_type": "markdown",
   "metadata": {},
   "source": [
    "2) Additionner "
   ]
  },
  {
   "cell_type": "code",
   "execution_count": 6,
   "metadata": {
    "id": "_JUmL7sQMsCV"
   },
   "outputs": [
    {
     "data": {
      "text/plain": [
       "array([ 8,  2, 18])"
      ]
     },
     "execution_count": 6,
     "metadata": {},
     "output_type": "execute_result"
    }
   ],
   "source": [
    "v = np.array([4, 1, 9])\n",
    "v + 2"
   ]
  },
  {
   "cell_type": "markdown",
   "metadata": {},
   "source": [
    "2) Diviser"
   ]
  },
  {
   "cell_type": "code",
   "execution_count": 10,
   "metadata": {},
   "outputs": [
    {
     "data": {
      "text/plain": [
       "array([2. , 0.5, 4.5])"
      ]
     },
     "execution_count": 10,
     "metadata": {},
     "output_type": "execute_result"
    }
   ],
   "source": [
    "v = np.array([4, 1, 9])\n",
    "v / 2"
   ]
  },
  {
   "cell_type": "markdown",
   "metadata": {},
   "source": [
    "2) Multiplier"
   ]
  },
  {
   "cell_type": "code",
   "execution_count": 11,
   "metadata": {},
   "outputs": [
    {
     "data": {
      "text/plain": [
       "array([ 8,  2, 18])"
      ]
     },
     "execution_count": 11,
     "metadata": {},
     "output_type": "execute_result"
    }
   ],
   "source": [
    "v = np.array([4, 1, 9])\n",
    "v * 2"
   ]
  },
  {
   "cell_type": "markdown",
   "metadata": {
    "id": "aheDJxhm1vNL"
   },
   "source": [
    "--------------------------------------------------------------------------------\n"
   ]
  },
  {
   "cell_type": "markdown",
   "metadata": {
    "id": "ZkcCZMIdMw5I"
   },
   "source": [
    "## **Job 1**\n",
    "Additionnez le vecteur $v$ avec le vecteur $w$, définie comme suit $w = (-1, -1, 0)$"
   ]
  },
  {
   "cell_type": "code",
   "execution_count": 13,
   "metadata": {
    "id": "Uf29sdXcM58l"
   },
   "outputs": [
    {
     "data": {
      "text/plain": [
       "array([3, 0, 9])"
      ]
     },
     "execution_count": 13,
     "metadata": {},
     "output_type": "execute_result"
    }
   ],
   "source": [
    "v = np.array([4, 1, 9])\n",
    "w = np.array([-1, -1, 0])\n",
    "v + w"
   ]
  },
  {
   "cell_type": "markdown",
   "metadata": {
    "id": "ITMFuM1BgG6H"
   },
   "source": [
    "-----------------------------------------------------------------"
   ]
  },
  {
   "cell_type": "markdown",
   "metadata": {
    "id": "yIMtWbHTNgme"
   },
   "source": [
    "## **Job 2**\n",
    "Soient les matrices $M$ et $N$ définies comme suit :\n",
    "$$M = \\begin{pmatrix}\n",
    "1 & 2  \\\\\n",
    "5 & 6\n",
    "\\end{pmatrix},\\space N = \\begin{pmatrix}\n",
    "1 & 1 & -1  \\\\\n",
    "0 & 0 & 1\n",
    "\\end{pmatrix} $$\n",
    "\n",
    "1. Créez les matrices $M$ et $N$. Quelles sont les dimensions de chacune ? Sont-elles des matrices carrées ?\n",
    "2. Est-il possible d'additionner $M$ et $N$ ? Justifiez. Si oui, calculez l'addition.\n",
    "3. Est-il possible de faire le produit matriciel de M par N ? Justifiez. Si oui, calculez le produit."
   ]
  },
  {
   "cell_type": "markdown",
   "metadata": {},
   "source": [
    "1) Les dimensions de chacunes sont 2 x 2 pour M et 2 x 3 pour N. Seulement M est carré"
   ]
  },
  {
   "cell_type": "code",
   "execution_count": 145,
   "metadata": {
    "id": "smbJ7DPBfQxT"
   },
   "outputs": [
    {
     "data": {
      "text/plain": [
       "(array([[1, 2],\n",
       "        [5, 6]]),\n",
       " (2, 2))"
      ]
     },
     "execution_count": 145,
     "metadata": {},
     "output_type": "execute_result"
    }
   ],
   "source": [
    "M = np.array([[1, 2],[5, 6]])\n",
    "M, M.shape"
   ]
  },
  {
   "cell_type": "code",
   "execution_count": 37,
   "metadata": {},
   "outputs": [
    {
     "data": {
      "text/plain": [
       "(array([[ 1,  1, -1],\n",
       "        [ 0,  0,  1]]),\n",
       " (2, 3))"
      ]
     },
     "execution_count": 37,
     "metadata": {},
     "output_type": "execute_result"
    }
   ],
   "source": [
    "N = np.array([[1, 1, -1],[0, 0, 1]])\n",
    "N, N.shape"
   ]
  },
  {
   "cell_type": "markdown",
   "metadata": {},
   "source": [
    "2) Nous ne pouvons pas faire l’addition de ces deux matrices car elles n’ont pas les même dimensions (en l’occurence matrice carrée de 2 et 2x3)"
   ]
  },
  {
   "cell_type": "code",
   "execution_count": 167,
   "metadata": {},
   "outputs": [
    {
     "ename": "ValueError",
     "evalue": "operands could not be broadcast together with shapes (2,2) (2,3) ",
     "output_type": "error",
     "traceback": [
      "\u001b[1;31m---------------------------------------------------------------------------\u001b[0m",
      "\u001b[1;31mValueError\u001b[0m                                Traceback (most recent call last)",
      "Cell \u001b[1;32mIn[167], line 3\u001b[0m\n\u001b[0;32m      1\u001b[0m M \u001b[38;5;241m=\u001b[39m np\u001b[38;5;241m.\u001b[39marray([[\u001b[38;5;241m1\u001b[39m, \u001b[38;5;241m2\u001b[39m],[\u001b[38;5;241m5\u001b[39m, \u001b[38;5;241m6\u001b[39m]])\n\u001b[0;32m      2\u001b[0m N \u001b[38;5;241m=\u001b[39m np\u001b[38;5;241m.\u001b[39marray([[\u001b[38;5;241m1\u001b[39m, \u001b[38;5;241m1\u001b[39m, \u001b[38;5;241m-\u001b[39m\u001b[38;5;241m1\u001b[39m],[\u001b[38;5;241m0\u001b[39m, \u001b[38;5;241m0\u001b[39m, \u001b[38;5;241m1\u001b[39m]])\n\u001b[1;32m----> 3\u001b[0m \u001b[43mM\u001b[49m\u001b[43m \u001b[49m\u001b[38;5;241;43m+\u001b[39;49m\u001b[43m \u001b[49m\u001b[43mN\u001b[49m\n",
      "\u001b[1;31mValueError\u001b[0m: operands could not be broadcast together with shapes (2,2) (2,3) "
     ]
    }
   ],
   "source": [
    "M = np.array([[1, 2],[5, 6]])\n",
    "N = np.array([[1, 1, -1],[0, 0, 1]])\n",
    "M + N"
   ]
  },
  {
   "cell_type": "code",
   "execution_count": 146,
   "metadata": {},
   "outputs": [
    {
     "data": {
      "text/plain": [
       "array([[1, 1, 1],\n",
       "       [5, 5, 1]])"
      ]
     },
     "execution_count": 146,
     "metadata": {},
     "output_type": "execute_result"
    }
   ],
   "source": [
    "M = np.array([[1, 2],[5, 6]])\n",
    "N = np.array([[1, 1, -1],[0, 0, 1]])\n",
    "# M @ N\n",
    "np.dot(M, N)"
   ]
  },
  {
   "cell_type": "markdown",
   "metadata": {
    "id": "bPsxeP6rfapL"
   },
   "source": [
    "-----------------------------------"
   ]
  },
  {
   "cell_type": "markdown",
   "metadata": {
    "id": "W5Vfaozbt7_a"
   },
   "source": [
    "## **Job 3**\n",
    "Soit la matrice suivante :\n",
    "$$A = \\begin{pmatrix}\n",
    "1 & 2 & 3 & 4 \\\\\n",
    "5 & 6 & 7 & 8 \\\\\n",
    "9 & 10 & 11 & 12 \\\\\n",
    "13 & 14 & 15 & 16\n",
    "\\end{pmatrix} $$\n",
    "\n",
    "1. Créez et affichez la matrice A\n",
    "\n",
    "2. Créez une copie $C$ de la matrice $A$\n",
    "\n",
    "3. Créez une copie superficielle $B$ de la matrice $A$, sans copier sa référence\n",
    "\n",
    "4. Affichez la valeur se trouvant à la ligne 2 et à la colonne 3\n",
    "\n",
    "5. Affichez tous les éléments de la $2^{ème}$ ligne\n",
    "\n",
    "6. Affichez tous les éléments de la $1^{ème}$ colonne\n",
    "\n",
    "7. Affichez la diagonale de $A$\n",
    "\n",
    "8. Multipliez la matrice $A$ par $\\frac{1}{2}$"
   ]
  },
  {
   "cell_type": "code",
   "execution_count": 47,
   "metadata": {
    "id": "OLlKmDT1gPsr"
   },
   "outputs": [
    {
     "data": {
      "text/plain": [
       "array([[ 1,  2,  3,  4],\n",
       "       [ 5,  6,  7,  8],\n",
       "       [ 9, 10, 11, 12],\n",
       "       [13, 14, 15, 16]])"
      ]
     },
     "execution_count": 47,
     "metadata": {},
     "output_type": "execute_result"
    }
   ],
   "source": [
    "# 1\n",
    "A = np.arange(1,17).reshape(4,4)\n",
    "A"
   ]
  },
  {
   "cell_type": "code",
   "execution_count": 57,
   "metadata": {},
   "outputs": [
    {
     "data": {
      "text/plain": [
       "array([[ 1,  2,  3,  4],\n",
       "       [ 5,  6,  7,  8],\n",
       "       [ 9, 10, 11, 12],\n",
       "       [13, 14, 15, 16]])"
      ]
     },
     "execution_count": 57,
     "metadata": {},
     "output_type": "execute_result"
    }
   ],
   "source": [
    "# 2\n",
    "C = A.copy()\n",
    "C"
   ]
  },
  {
   "cell_type": "code",
   "execution_count": 70,
   "metadata": {},
   "outputs": [
    {
     "data": {
      "text/plain": [
       "array([[ 1,  2,  3,  4],\n",
       "       [ 5,  6,  7,  8],\n",
       "       [ 9, 10, 11, 12],\n",
       "       [13, 14, 15, 16]])"
      ]
     },
     "execution_count": 70,
     "metadata": {},
     "output_type": "execute_result"
    }
   ],
   "source": [
    "# 3\n",
    "B = A.view()\n",
    "B"
   ]
  },
  {
   "cell_type": "code",
   "execution_count": 147,
   "metadata": {},
   "outputs": [
    {
     "data": {
      "text/plain": [
       "array([7])"
      ]
     },
     "execution_count": 147,
     "metadata": {},
     "output_type": "execute_result"
    }
   ],
   "source": [
    "# 4\n",
    "A = np.arange(1,17).reshape(4,4)\n",
    "A[1,[2]]"
   ]
  },
  {
   "cell_type": "code",
   "execution_count": 75,
   "metadata": {},
   "outputs": [
    {
     "data": {
      "text/plain": [
       "array([5, 6, 7, 8])"
      ]
     },
     "execution_count": 75,
     "metadata": {},
     "output_type": "execute_result"
    }
   ],
   "source": [
    "# 5\n",
    "A = np.arange(1,17).reshape(4,4)\n",
    "A[1]"
   ]
  },
  {
   "cell_type": "code",
   "execution_count": 77,
   "metadata": {},
   "outputs": [
    {
     "data": {
      "text/plain": [
       "array([ 1,  5,  9, 13])"
      ]
     },
     "execution_count": 77,
     "metadata": {},
     "output_type": "execute_result"
    }
   ],
   "source": [
    "# 6\n",
    "# Tout les éléments de la première colonne\n",
    "A = np.arange(1,17).reshape(4,4)\n",
    "A[0:4,0]"
   ]
  },
  {
   "cell_type": "code",
   "execution_count": 85,
   "metadata": {},
   "outputs": [
    {
     "data": {
      "text/plain": [
       "array([ 1,  6, 11, 16])"
      ]
     },
     "execution_count": 85,
     "metadata": {},
     "output_type": "execute_result"
    }
   ],
   "source": [
    "# 7\n",
    "A = np.arange(1,17).reshape(4,4)\n",
    "A.diagonal()"
   ]
  },
  {
   "cell_type": "code",
   "execution_count": 148,
   "metadata": {},
   "outputs": [
    {
     "data": {
      "text/plain": [
       "array([[0.5, 1. , 1.5, 2. ],\n",
       "       [2.5, 3. , 3.5, 4. ],\n",
       "       [4.5, 5. , 5.5, 6. ],\n",
       "       [6.5, 7. , 7.5, 8. ]])"
      ]
     },
     "execution_count": 148,
     "metadata": {},
     "output_type": "execute_result"
    }
   ],
   "source": [
    "# 8\n",
    "# Multiplier par 1/2\n",
    "A = np.arange(1,17).reshape(4,4)\n",
    "A * 0.5"
   ]
  },
  {
   "cell_type": "markdown",
   "metadata": {
    "id": "egHy1WsBfUc0"
   },
   "source": [
    "-------------------------------------------------------"
   ]
  },
  {
   "cell_type": "markdown",
   "metadata": {
    "id": "7Tv1qDFOo0ID"
   },
   "source": [
    "## **Job 4**\n",
    "Considérons les matrices $A$ et $A_{bis}$ définies comme ci-dessous :\n",
    "\n",
    "$$ A = \\begin{pmatrix}\n",
    "1 & 5 & 3  \\\\\n",
    "2 & 4 & 7\n",
    "\\end{pmatrix}, \\space A_{bis} = \\begin{pmatrix}\n",
    "1 & 2  \\\\\n",
    "5 & 4 \\\\\n",
    "3 & 7\n",
    "\\end{pmatrix}$$\n",
    "\n",
    "1. Quelles sont les dimensions de $A$ et de $A_{bis}$ ?\n",
    "2. Qu'est ce que vous voyez en observant ces deux matrices ?\n",
    "3. Quelle opération mathématique permet d'obtenir $A_{bis}$ comme résultat à partir de $A$ ?\n",
    "4. Quelle fonction Python permet de faire ce type d'opération ?\n",
    "5. A l'aide de l'opération précédente, transformez les vecteurs et les matrices ci-dessous. Affichez leurs dimensions avant et après l'opération :\n",
    "  * $\\begin{pmatrix}\n",
    "7  \\\\\n",
    "4 \\\\\n",
    "1\n",
    "\\end{pmatrix}$\n",
    "\n",
    "  * $\\begin{pmatrix}\n",
    "9 & 0 & 3 \\\\\n",
    "\\end{pmatrix}$\n",
    "\n",
    "  * $\\begin{pmatrix}\n",
    "2 & 4 & 1 \\\\\n",
    "0 & 5 & 2 \\\\\n",
    "3 & 1 & 6\n",
    "\\end{pmatrix}$\n",
    "\n",
    "  * $\\begin{pmatrix}\n",
    "  7 & 2 & 5 & 1 \\\\\n",
    "3 & 6 & 0 & 2 \\\\\n",
    "\\end{pmatrix}$\n"
   ]
  },
  {
   "cell_type": "code",
   "execution_count": 149,
   "metadata": {
    "id": "o1Hj2crXfRe9"
   },
   "outputs": [
    {
     "name": "stdout",
     "output_type": "stream",
     "text": [
      "(3, 2)\n"
     ]
    },
    {
     "data": {
      "text/plain": [
       "(2, 3)"
      ]
     },
     "execution_count": 149,
     "metadata": {},
     "output_type": "execute_result"
    }
   ],
   "source": [
    "# 1 Dimension de A et A Bis\n",
    "A = np.array([[1, 5, 3],[2, 4, 7]])\n",
    "A_bis = np.array([[1, 2],[5, 4], [3, 7]])\n",
    "print(A_bis.shape) \n",
    "A.shape"
   ]
  },
  {
   "cell_type": "code",
   "execution_count": null,
   "metadata": {},
   "outputs": [],
   "source": [
    "# 2 Répondre à la question"
   ]
  },
  {
   "cell_type": "code",
   "execution_count": 282,
   "metadata": {},
   "outputs": [
    {
     "data": {
      "text/plain": [
       "array([[1, 2],\n",
       "       [5, 4],\n",
       "       [3, 7]])"
      ]
     },
     "execution_count": 282,
     "metadata": {},
     "output_type": "execute_result"
    }
   ],
   "source": [
    "# 3 et 4 La translation\n",
    "\n",
    "A = np.array([[1, 5, 3],[2, 4, 7]])\n",
    "A.T\n",
    "# print(A)\n",
    "# np.transpose(A)"
   ]
  },
  {
   "cell_type": "code",
   "execution_count": 151,
   "metadata": {},
   "outputs": [
    {
     "data": {
      "text/plain": [
       "array([[7, 3],\n",
       "       [2, 6],\n",
       "       [5, 0],\n",
       "       [1, 2]])"
      ]
     },
     "execution_count": 151,
     "metadata": {},
     "output_type": "execute_result"
    }
   ],
   "source": [
    "# 5 \n",
    "\n",
    "first = np.array([[7], [4], [1]])\n",
    "first.T\n",
    "\n",
    "second = np.array([[9, 0, 3]])\n",
    "second.T\n",
    "\n",
    "third = np.array([[2, 4, 1], [0, 5, 2], [3, 1, 6]])\n",
    "third.T\n",
    "\n",
    "fourth = np.array([[7, 2, 5, 1], [3, 6, 0, 2]])\n",
    "fourth.T"
   ]
  },
  {
   "cell_type": "markdown",
   "metadata": {
    "id": "DNws-5WUo2Ab"
   },
   "source": [
    "------------------------------------------"
   ]
  },
  {
   "cell_type": "markdown",
   "metadata": {
    "id": "Il-yWHePVIqI"
   },
   "source": [
    "## **Job 5**\n",
    "On considère la matrice $A$ de dimension 3 $\\times 4$ définie comme :\n",
    "\n",
    "$$ A = \\begin{pmatrix}\n",
    "4 & 6 & -2 & 3 \\\\\n",
    "2 & -1 & 0 & 1 \\\\\n",
    "-7 & 0 & 1 & 12\n",
    "\\end{pmatrix} $$\n",
    "\n",
    "1. Créez la matrice $A$.\n",
    "\n",
    "2. Modifiez la matrice $A$ pour que ses deux premières lignes soient multipliées par 2 et que sa dernière colonne soit divisée par 3.\n",
    "\n",
    "3. Créez une nouvelle matrice $B$ définie comme :\n",
    "\n",
    "$$ B = \\begin{pmatrix}\n",
    "4 & 5 & 6 \\\\\n",
    "5 & 10 & 15 \\\\\n",
    "1 & 1 & 1\n",
    "\\end{pmatrix}  $$\n",
    "\n",
    "4. Réalisez le produit matriciel de $B$ et $A$, notez le $D$."
   ]
  },
  {
   "cell_type": "code",
   "execution_count": 251,
   "metadata": {
    "id": "u7qHn_eXj4QD"
   },
   "outputs": [
    {
     "data": {
      "text/plain": [
       "array([[ 10,  38, -10,  32],\n",
       "       [-25,  40,  -5,  70],\n",
       "       [  5,  10,  -3,   6]])"
      ]
     },
     "execution_count": 251,
     "metadata": {},
     "output_type": "execute_result"
    }
   ],
   "source": [
    "# 1\n",
    "A = np.array([[4, 6, -2, 3], [2, -1, 0, 1], [-7, 0, 1, 12]])\n",
    "\n",
    "# 2\n",
    "A[0:2] *= 2\n",
    "A[:, -1] = A[:, -1] / 3\n",
    "\n",
    "# 3 \n",
    "B = np. array([[4, 5, 6], [5, 10, 15], [1, 1, 1]])\n",
    "\n",
    "# 4 \n",
    "D = B @ A\n",
    "D"
   ]
  },
  {
   "cell_type": "markdown",
   "metadata": {
    "id": "pUe2Q9LJg8-e"
   },
   "source": [
    "---------------------------------------------------------"
   ]
  },
  {
   "cell_type": "markdown",
   "metadata": {
    "id": "fy9H6rsutmov"
   },
   "source": [
    "## **Job 6**\n",
    "\n",
    "Soit la matrice $I_3$ définie comme suit :\n",
    "$$ \\begin{pmatrix}\n",
    "1 & 0 & 0 \\\\\n",
    "0 & 1 & 0 \\\\\n",
    "0 & 0 & 1\n",
    "\\end{pmatrix}$$\n",
    "\n",
    "1. Faites une multiplication matricielle de $I_3$ et d'une autre matrice de même taille de votre choix. Qu'est ce que vous observez ?\n",
    "2. Renseignez-vous sur la matrice $I_3$. Quelles sont ses caractéristiques ?"
   ]
  },
  {
   "cell_type": "code",
   "execution_count": 214,
   "metadata": {
    "id": "SIVfVrphw6mD"
   },
   "outputs": [
    {
     "data": {
      "text/plain": [
       "array([[1., 2., 3.],\n",
       "       [4., 5., 6.],\n",
       "       [7., 8., 9.]])"
      ]
     },
     "execution_count": 214,
     "metadata": {},
     "output_type": "execute_result"
    }
   ],
   "source": [
    "# 1\n",
    "I3 = np.eye(3)\n",
    "M = np.arange(1, 10).reshape(3,3)\n",
    "M_I3 = I3 @ M\n",
    "M_I3"
   ]
  },
  {
   "cell_type": "markdown",
   "metadata": {},
   "source": [
    "2) La matrice est I3 est une martrice identitaire de dimension 3x3, si le déterminant d’une matrice est différent de 0, la multiplication des deux renvera la matrice identique"
   ]
  },
  {
   "cell_type": "markdown",
   "metadata": {
    "id": "D1RXE9cXx3LD"
   },
   "source": [
    "--------------------------------------------------------------"
   ]
  },
  {
   "cell_type": "markdown",
   "metadata": {
    "id": "2AB67_wztCQT"
   },
   "source": [
    "## **Job 7**\n",
    "\n",
    "Pour un nombre réel $x$, son inverse, noté $\\frac{1}{x}$ ou $x^{-1}$, est un autre nombre tel que $x \\times \\frac{1}{x} = 1$\n",
    "\n",
    " En d'autres termes, lorsque vous multipliez un nombre par son inverse, le résultat est toujours $1$.\n",
    "\n",
    " Démontrez le dans la cellule ci-dessous pour des nombres de votre choix."
   ]
  },
  {
   "cell_type": "code",
   "execution_count": 280,
   "metadata": {
    "id": "AOV7zzmzx4_o"
   },
   "outputs": [
    {
     "name": "stdout",
     "output_type": "stream",
     "text": [
      "Valeurs de x : [11  2 13  2]\n",
      "Inverses de x : [0.09090909 0.5        0.07692308 0.5       ]\n",
      "Produit de x et de son inverse : [1. 1. 1. 1.]\n"
     ]
    }
   ],
   "source": [
    "import random\n",
    "valeurs = np.array([random.randint(1,15), random.randint(1,15), random.randint(1,15), random.randint(1,15)])\n",
    "inverses = 1 / valeurs\n",
    "produit = valeurs * inverses\n",
    "print(\"Valeurs de x :\", valeurs)\n",
    "print(\"Inverses de x :\", inverses)\n",
    "print(\"Produit de x et de son inverse :\", produit)"
   ]
  },
  {
   "cell_type": "markdown",
   "metadata": {
    "id": "u-S8sAZPx5Lz"
   },
   "source": [
    "-----------------------------------------------------------------"
   ]
  },
  {
   "cell_type": "markdown",
   "metadata": {
    "id": "RgYKdF1J6fXn"
   },
   "source": [
    "## **Job 8**\n",
    "\n",
    "L'inverse d'une matrice est une autre matrice qui, lorsqu'elle est multipliée par la matrice d'origine, donne une matrice identité. En d'autres termes, si $A$ est une matrice et $A^{-1}$ est son inverse, alors $A \\times A^{-1} = I$.\n",
    "\n",
    "*(C'est comme si l'inverse de la matrice \"compensait\" les effets de la matrice d'origine, de la même manière que l'inverse d'un nombre \"compense\" sa multiplication initiale pour obtenir $1$.)*\n",
    "\n",
    "Soient deux matrices $A$ et $B$ telles que :\n",
    "\n",
    "$$ A = \\begin{pmatrix}\n",
    "1 & 2 \\\\\n",
    "3 & 4\n",
    "\\end{pmatrix}, \\space B = \\begin{pmatrix}\n",
    "-2 & 1 \\\\\n",
    "1.5 & -0.5\n",
    "\\end{pmatrix}$$\n",
    "\n",
    "1. Calculez $A \\times B$ puis $B \\times A$.\n",
    "2. Que pouvez-vous conclure sur les deux matrices ?"
   ]
  },
  {
   "cell_type": "code",
   "execution_count": 288,
   "metadata": {
    "id": "DYkYvgfr6iBH"
   },
   "outputs": [
    {
     "data": {
      "text/plain": [
       "(array([[1., 0.],\n",
       "        [0., 1.]]),\n",
       " array([[1., 0.],\n",
       "        [0., 1.]]))"
      ]
     },
     "execution_count": 288,
     "metadata": {},
     "output_type": "execute_result"
    }
   ],
   "source": [
    "A = np.array([[1,2],[3,4]])\n",
    "B = np.array([[-2,1],[1.5, -0.5]])\n",
    "test1 = B @ A\n",
    "test2 = B @ A\n",
    "test1, test2"
   ]
  },
  {
   "cell_type": "markdown",
   "metadata": {},
   "source": [
    "2) On voit que A produit de B et que B produit de A donne la matrice identitée. On peut donc dire que B est la matrice inverse de A"
   ]
  },
  {
   "cell_type": "markdown",
   "metadata": {
    "id": "rLtfdXh76iTd"
   },
   "source": [
    "----------------------------------------------------------------------"
   ]
  },
  {
   "cell_type": "markdown",
   "metadata": {
    "id": "rfRPzGs-3MG2"
   },
   "source": [
    "## **Job 9**\n",
    "\n",
    "On dit qu'une matrice carrée $M$ est inversible (ou possède un inverse $M^{-1}$) si son déterminant $det(M)\\neq 0$.\n",
    "\n",
    "**Par exemple :**\n",
    "\n",
    "$$ M = \\begin{pmatrix}\n",
    "a & b \\\\\n",
    "c & d\n",
    "\\end{pmatrix}, \\space det(M) = (a \\times d) - (c \\times b) \\neq 0$$\n",
    "\n",
    "On définit alors $M^{-1}$ comme suit :\n",
    "\n",
    "$$ M^{-1} = \\frac{1}{det(M)} \\times \\begin{pmatrix}\n",
    "d & -b \\\\\n",
    "-c & a\n",
    "\\end{pmatrix} $$\n",
    "\n",
    "\\\n",
    "\n",
    "1. Vérifiez si les matrices carrées ci-dessous sont inversibles (il existe une fonction de numpy qui le fait très bien...) :\n",
    "\n",
    "  * $ \\begin{pmatrix}\n",
    "5 & 6 \\\\\n",
    "7 & 8\n",
    "\\end{pmatrix}$\n",
    "\n",
    "  * $ \\begin{pmatrix}\n",
    "3 & 2 \\\\\n",
    "4 & 1\n",
    "\\end{pmatrix}$\n",
    "\n",
    "  * $ \\begin{pmatrix}\n",
    "1 & 5 \\\\\n",
    "7 & 8 \\\\\n",
    "0 & 1\n",
    "\\end{pmatrix}$\n",
    "\n",
    "  * $ \\begin{pmatrix}\n",
    "1 & 2 & 3 \\\\\n",
    "0 & -1 & 4 \\\\\n",
    "2 & 1 & 5\n",
    "\\end{pmatrix}$\n",
    "\n",
    "\n",
    "2. Calculez l'inverse de ces matrices à l'aide de la formule donnée précédemment."
   ]
  },
  {
   "cell_type": "code",
   "execution_count": 311,
   "metadata": {
    "id": "EqS8e-z13Lf9"
   },
   "outputs": [
    {
     "data": {
      "text/plain": [
       "(True, True, True)"
      ]
     },
     "execution_count": 311,
     "metadata": {},
     "output_type": "execute_result"
    }
   ],
   "source": [
    "# 1 Oui elles sont inversibles car le déterminent est différent de 0\n",
    "A = np.array([[5,6], [7,8]])\n",
    "A_det = np.linalg.det(A)\n",
    "B = np.array([[3,2], [4,1]])\n",
    "B_det = np.linalg.det(B)\n",
    "C = np.array([[1,5],[7,8], [4,1]])\n",
    "D = np.array([[1,2,3],[0, -1, 4], [2,1,5]])\n",
    "D_det = np.linalg.det(D)\n",
    "A_det, B_det, D_det\n",
    "\n",
    "#2 \n",
    "invA = np.linalg.inv(A)\n",
    "invB = np.linalg.inv(B)\n",
    "invD = np.linalg.inv(D)\n",
    "invB @ B, invA @ A, invD @ D\n",
    "np.allclose(invA @ A, np.eye(2)), np.allclose(invB @ B, np.eye(2)), np.allclose(invD @ D, np.eye(3))\n"
   ]
  },
  {
   "cell_type": "markdown",
   "metadata": {
    "id": "Gx-D1gOvx9q7"
   },
   "source": [
    "-----------------------------------------------------------------"
   ]
  },
  {
   "cell_type": "markdown",
   "metadata": {
    "id": "CQtesnAQhBWC"
   },
   "source": [
    "# Probabilités et Statistique"
   ]
  },
  {
   "cell_type": "markdown",
   "metadata": {
    "id": "ln_exBJbqReD"
   },
   "source": [
    "## **Job 10**\n",
    "**La probabilité d'un événement est un nombre réel compris entre 0 et 1. Plus ce nombre est grand, plus le risque, ou la chance, que l'événement se produise est grand.**\n",
    "\n",
    "Lancez une pièce de monnaie 100 fois et enregistrez le résultat, pile ou face, dans un `array` $T$.\n",
    "1. Quelle est donc la probabilité d'obtenir le résultat Pile ou le résultat Face ?\n",
    "3. Visualisez la proportion des résultats à l'aide d'un piechart de `Matplotlib` (ou d'une autre librairie de votre choix).\n"
   ]
  },
  {
   "cell_type": "code",
   "execution_count": 326,
   "metadata": {
    "id": "iOPwW6xwrI-v"
   },
   "outputs": [
    {
     "data": {
      "text/plain": [
       "[]"
      ]
     },
     "execution_count": 326,
     "metadata": {},
     "output_type": "execute_result"
    },
    {
     "data": {
      "image/png": "[encoded data removed]",
      "text/plain": [
       "<Figure size 640x480 with 1 Axes>"
      ]
     },
     "metadata": {},
     "output_type": "display_data"
    }
   ],
   "source": [
    "# 1 La probablité est d’un demi.\n",
    "T = np.random.choice(['pile', 'face'], 100)\n",
    "\n",
    "labels = ['Pile', 'Face']\n",
    "sizes = [np.count_nonzero(T == 'Pile'), np.count_nonzero(T == 'Face')]\n"
   ]
  },
  {
   "cell_type": "markdown",
   "metadata": {
    "id": "MxiFruoxmYug"
   },
   "source": [
    "## **Job 11**\n",
    "\n",
    "Considérez un dé $D_6$ dont les valeurs possibles sont : $\\{1, 2, 3, 4, 5, 6\\}$.\n",
    "\n",
    "Ce dé est non truqué, ce qui signifie que toutes les valeurs ont des probabilités égales de se produire.  \n",
    "\n",
    "Si je jette le dé $D_6$, la probabilité que le résultat soit $3$ est de $\\frac{1}{6}$.\n",
    "\n",
    "1. Quelle est la probabilité d'obtenir $7$ au jet du dé $D_6$ ?\n",
    "2. Quelle est la probabilité d'obtenir un résultat pair ?\n",
    "3. Quelle est la probabilité d'obtenir un résultat impair ?\n",
    "4. Quelle est la probabilité d'obtenir un résultat inférieur ou égal à $4$ ?\n",
    "5. Quelle est la probabilité d'obtenir un résultat inférieur ou égal à $6$ ?\n",
    "6. Quelle est la probabilité de ne pas obtenir $1$ ?"
   ]
  },
  {
   "cell_type": "code",
   "execution_count": null,
   "metadata": {
    "id": "Nbpx1FibWrBs"
   },
   "outputs": [],
   "source": []
  },
  {
   "cell_type": "markdown",
   "metadata": {
    "id": "WSdMr0IBWthA"
   },
   "source": [
    "-------------------------------------------------------------"
   ]
  },
  {
   "cell_type": "markdown",
   "metadata": {
    "id": "uttOswY_g-gC"
   },
   "source": [
    "## **Job 12**\n",
    "A l'aide de `numpy` et de ses différentes fonctions :\n",
    "* Créez un vecteur ligne $R$ de taille $n=450$ composé de nombres naturels entre $0$ et $9$ générés aléatoirement\n",
    "* Calculez la valeur moyenne du tableau\n",
    "* Calculez la valeur médiane\n",
    "* Calculez la variance\n",
    "* Calculez l'écart-type"
   ]
  },
  {
   "cell_type": "code",
   "execution_count": null,
   "metadata": {
    "id": "q4WwtEoHj5ZV"
   },
   "outputs": [],
   "source": []
  },
  {
   "cell_type": "markdown",
   "metadata": {
    "id": "Aw0gaIdZazFa"
   },
   "source": [
    "----------------------------------------------"
   ]
  },
  {
   "cell_type": "markdown",
   "metadata": {
    "id": "KqxEDbkKkP4t"
   },
   "source": [
    "## **Job 13**\n",
    "A l'aide de matplotlib (ou d'une autre librairie de votre choix), visualisez la distribution des données du tableau $R$ en générant un histogramme."
   ]
  },
  {
   "cell_type": "code",
   "execution_count": null,
   "metadata": {
    "id": "8sWEFtOskmmg"
   },
   "outputs": [],
   "source": []
  },
  {
   "cell_type": "markdown",
   "metadata": {
    "id": "BoIJ71z2a0aY"
   },
   "source": [
    "---------------------------------------------------------"
   ]
  },
  {
   "cell_type": "markdown",
   "metadata": {
    "id": "QXOHm1PqknPj"
   },
   "source": [
    "## **Job 14**\n",
    "A l'aide de matplotlib (ou d'une autre librairie de votre choix), visualisez la distribution et dispersion des données du tableau $R$ à travers leurs **quartiles** en utilisant l'outil statistique, le boxplot."
   ]
  },
  {
   "cell_type": "code",
   "execution_count": null,
   "metadata": {
    "id": "olFRkPQHkxwV"
   },
   "outputs": [],
   "source": []
  },
  {
   "cell_type": "markdown",
   "metadata": {
    "id": "tHtFR_Mha177"
   },
   "source": [
    "-----------------------------------------------------"
   ]
  },
  {
   "cell_type": "markdown",
   "metadata": {
    "id": "7FRhuAFaa3Yy"
   },
   "source": [
    "## **Job 15**\n",
    "\n",
    "Considérons des données de résultats d'une analyse chimique de vins cultivés en Italie issus de trois cultivars différents. Ces données ont été récupérées et chargées dans un `DataFrame` via la code ci-dessous.\n",
    "\n",
    "1. Affichez différentes informations de `wine_df` (nombre d'observations, nombre de caractéristiques, type de données, données manquantes, mémoire allouée en RAM).\n",
    "\n",
    "2. A l'aide d'une fonction spécifique de `Pandas`, générez les statistiques descriptives (moyenne, médiane, maximum, ...) du jeu de données. Qu'est ce que vous observez ?\n",
    "\n",
    "3. Visualisez la distribution des différentes variables du jeu de données à l'aide d'un histogramme et d'un boxplot.\n",
    "\n",
    "4. A l'aide d'une fonction spécifique de `Pandas`, calculez la corrélation linéaire de Pearson par paire des variables.\n"
   ]
  },
  {
   "cell_type": "code",
   "execution_count": null,
   "metadata": {
    "colab": {
     "base_uri": "https://localhost:8080/",
     "height": 226
    },
    "id": "tlFNsLZ5a7fr",
    "outputId": "56aa52f5-af6f-4a9f-edee-6b04437a61e1"
   },
   "outputs": [
    {
     "data": {
      "text/html": [
       "\n",
       "  <div id=\"df-f4764ad0-0bc0-4dc8-b799-706c926a33a3\" class=\"colab-df-container\">\n",
       "    <div>\n",
       "<style scoped>\n",
       "    .dataframe tbody tr th:only-of-type {\n",
       "        vertical-align: middle;\n",
       "    }\n",
       "\n",
       "    .dataframe tbody tr th {\n",
       "        vertical-align: top;\n",
       "    }\n",
       "\n",
       "    .dataframe thead th {\n",
       "        text-align: right;\n",
       "    }\n",
       "</style>\n",
       "<table border=\"1\" class=\"dataframe\">\n",
       "  <thead>\n",
       "    <tr style=\"text-align: right;\">\n",
       "      <th></th>\n",
       "      <th>alcohol</th>\n",
       "      <th>malic_acid</th>\n",
       "      <th>ash</th>\n",
       "      <th>alcalinity_of_ash</th>\n",
       "      <th>magnesium</th>\n",
       "      <th>total_phenols</th>\n",
       "      <th>flavanoids</th>\n",
       "      <th>nonflavanoid_phenols</th>\n",
       "      <th>proanthocyanins</th>\n",
       "      <th>color_intensity</th>\n",
       "      <th>hue</th>\n",
       "      <th>od280/od315_of_diluted_wines</th>\n",
       "      <th>proline</th>\n",
       "    </tr>\n",
       "  </thead>\n",
       "  <tbody>\n",
       "    <tr>\n",
       "      <th>0</th>\n",
       "      <td>14.23</td>\n",
       "      <td>1.71</td>\n",
       "      <td>2.43</td>\n",
       "      <td>15.6</td>\n",
       "      <td>127.0</td>\n",
       "      <td>2.80</td>\n",
       "      <td>3.06</td>\n",
       "      <td>0.28</td>\n",
       "      <td>2.29</td>\n",
       "      <td>5.64</td>\n",
       "      <td>1.04</td>\n",
       "      <td>3.92</td>\n",
       "      <td>1065.0</td>\n",
       "    </tr>\n",
       "    <tr>\n",
       "      <th>1</th>\n",
       "      <td>13.20</td>\n",
       "      <td>1.78</td>\n",
       "      <td>2.14</td>\n",
       "      <td>11.2</td>\n",
       "      <td>100.0</td>\n",
       "      <td>2.65</td>\n",
       "      <td>2.76</td>\n",
       "      <td>0.26</td>\n",
       "      <td>1.28</td>\n",
       "      <td>4.38</td>\n",
       "      <td>1.05</td>\n",
       "      <td>3.40</td>\n",
       "      <td>1050.0</td>\n",
       "    </tr>\n",
       "    <tr>\n",
       "      <th>2</th>\n",
       "      <td>13.16</td>\n",
       "      <td>2.36</td>\n",
       "      <td>2.67</td>\n",
       "      <td>18.6</td>\n",
       "      <td>101.0</td>\n",
       "      <td>2.80</td>\n",
       "      <td>3.24</td>\n",
       "      <td>0.30</td>\n",
       "      <td>2.81</td>\n",
       "      <td>5.68</td>\n",
       "      <td>1.03</td>\n",
       "      <td>3.17</td>\n",
       "      <td>1185.0</td>\n",
       "    </tr>\n",
       "    <tr>\n",
       "      <th>3</th>\n",
       "      <td>14.37</td>\n",
       "      <td>1.95</td>\n",
       "      <td>2.50</td>\n",
       "      <td>16.8</td>\n",
       "      <td>113.0</td>\n",
       "      <td>3.85</td>\n",
       "      <td>3.49</td>\n",
       "      <td>0.24</td>\n",
       "      <td>2.18</td>\n",
       "      <td>7.80</td>\n",
       "      <td>0.86</td>\n",
       "      <td>3.45</td>\n",
       "      <td>1480.0</td>\n",
       "    </tr>\n",
       "    <tr>\n",
       "      <th>4</th>\n",
       "      <td>13.24</td>\n",
       "      <td>2.59</td>\n",
       "      <td>2.87</td>\n",
       "      <td>21.0</td>\n",
       "      <td>118.0</td>\n",
       "      <td>2.80</td>\n",
       "      <td>2.69</td>\n",
       "      <td>0.39</td>\n",
       "      <td>1.82</td>\n",
       "      <td>4.32</td>\n",
       "      <td>1.04</td>\n",
       "      <td>2.93</td>\n",
       "      <td>735.0</td>\n",
       "    </tr>\n",
       "  </tbody>\n",
       "</table>\n",
       "</div>\n",
       "    <div class=\"colab-df-buttons\">\n",
       "\n",
       "  <div class=\"colab-df-container\">\n",
       "    <button class=\"colab-df-convert\" onclick=\"convertToInteractive('df-f4764ad0-0bc0-4dc8-b799-706c926a33a3')\"\n",
       "            title=\"Convert this dataframe to an interactive table.\"\n",
       "            style=\"display:none;\">\n",
       "\n",
       "  <svg xmlns=\"http://www.w3.org/2000/svg\" height=\"24px\" viewBox=\"0 -960 960 960\">\n",
       "    <path d=\"M120-120v-720h720v720H120Zm60-500h600v-160H180v160Zm220 220h160v-160H400v160Zm0 220h160v-160H400v160ZM180-400h160v-160H180v160Zm440 0h160v-160H620v160ZM180-180h160v-160H180v160Zm440 0h160v-160H620v160Z\"/>\n",
       "  </svg>\n",
       "    </button>\n",
       "\n",
       "  <style>\n",
       "    .colab-df-container {\n",
       "      display:flex;\n",
       "      gap: 12px;\n",
       "    }\n",
       "\n",
       "    .colab-df-convert {\n",
       "      background-color: #E8F0FE;\n",
       "      border: none;\n",
       "      border-radius: 50%;\n",
       "      cursor: pointer;\n",
       "      display: none;\n",
       "      fill: #1967D2;\n",
       "      height: 32px;\n",
       "      padding: 0 0 0 0;\n",
       "      width: 32px;\n",
       "    }\n",
       "\n",
       "    .colab-df-convert:hover {\n",
       "      background-color: #E2EBFA;\n",
       "      box-shadow: 0px 1px 2px rgba(60, 64, 67, 0.3), 0px 1px 3px 1px rgba(60, 64, 67, 0.15);\n",
       "      fill: #174EA6;\n",
       "    }\n",
       "\n",
       "    .colab-df-buttons div {\n",
       "      margin-bottom: 4px;\n",
       "    }\n",
       "\n",
       "    [theme=dark] .colab-df-convert {\n",
       "      background-color: #3B4455;\n",
       "      fill: #D2E3FC;\n",
       "    }\n",
       "\n",
       "    [theme=dark] .colab-df-convert:hover {\n",
       "      background-color: #434B5C;\n",
       "      box-shadow: 0px 1px 3px 1px rgba(0, 0, 0, 0.15);\n",
       "      filter: drop-shadow(0px 1px 2px rgba(0, 0, 0, 0.3));\n",
       "      fill: #FFFFFF;\n",
       "    }\n",
       "  </style>\n",
       "\n",
       "    <script>\n",
       "      const buttonEl =\n",
       "        document.querySelector('#df-f4764ad0-0bc0-4dc8-b799-706c926a33a3 button.colab-df-convert');\n",
       "      buttonEl.style.display =\n",
       "        google.colab.kernel.accessAllowed ? 'block' : 'none';\n",
       "\n",
       "      async function convertToInteractive(key) {\n",
       "        const element = document.querySelector('#df-f4764ad0-0bc0-4dc8-b799-706c926a33a3');\n",
       "        const dataTable =\n",
       "          await google.colab.kernel.invokeFunction('convertToInteractive',\n",
       "                                                    [key], {});\n",
       "        if (!dataTable) return;\n",
       "\n",
       "        const docLinkHtml = 'Like what you see? Visit the ' +\n",
       "          '<a target=\"_blank\" href=https://colab.research.google.com/notebooks/data_table.ipynb>data table notebook</a>'\n",
       "          + ' to learn more about interactive tables.';\n",
       "        element.innerHTML = '';\n",
       "        dataTable['output_type'] = 'display_data';\n",
       "        await google.colab.output.renderOutput(dataTable, element);\n",
       "        const docLink = document.createElement('div');\n",
       "        docLink.innerHTML = docLinkHtml;\n",
       "        element.appendChild(docLink);\n",
       "      }\n",
       "    </script>\n",
       "  </div>\n",
       "\n",
       "\n",
       "<div id=\"df-646c0dc4-bfd0-4361-b417-3dbd841918fe\">\n",
       "  <button class=\"colab-df-quickchart\" onclick=\"quickchart('df-646c0dc4-bfd0-4361-b417-3dbd841918fe')\"\n",
       "            title=\"Suggest charts.\"\n",
       "            style=\"display:none;\">\n",
       "\n",
       "<svg xmlns=\"http://www.w3.org/2000/svg\" height=\"24px\"viewBox=\"0 0 24 24\"\n",
       "     width=\"24px\">\n",
       "    <g>\n",
       "        <path d=\"M19 3H5c-1.1 0-2 .9-2 2v14c0 1.1.9 2 2 2h14c1.1 0 2-.9 2-2V5c0-1.1-.9-2-2-2zM9 17H7v-7h2v7zm4 0h-2V7h2v10zm4 0h-2v-4h2v4z\"/>\n",
       "    </g>\n",
       "</svg>\n",
       "  </button>\n",
       "\n",
       "<style>\n",
       "  .colab-df-quickchart {\n",
       "      --bg-color: #E8F0FE;\n",
       "      --fill-color: #1967D2;\n",
       "      --hover-bg-color: #E2EBFA;\n",
       "      --hover-fill-color: #174EA6;\n",
       "      --disabled-fill-color: #AAA;\n",
       "      --disabled-bg-color: #DDD;\n",
       "  }\n",
       "\n",
       "  [theme=dark] .colab-df-quickchart {\n",
       "      --bg-color: #3B4455;\n",
       "      --fill-color: #D2E3FC;\n",
       "      --hover-bg-color: #434B5C;\n",
       "      --hover-fill-color: #FFFFFF;\n",
       "      --disabled-bg-color: #3B4455;\n",
       "      --disabled-fill-color: #666;\n",
       "  }\n",
       "\n",
       "  .colab-df-quickchart {\n",
       "    background-color: var(--bg-color);\n",
       "    border: none;\n",
       "    border-radius: 50%;\n",
       "    cursor: pointer;\n",
       "    display: none;\n",
       "    fill: var(--fill-color);\n",
       "    height: 32px;\n",
       "    padding: 0;\n",
       "    width: 32px;\n",
       "  }\n",
       "\n",
       "  .colab-df-quickchart:hover {\n",
       "    background-color: var(--hover-bg-color);\n",
       "    box-shadow: 0 1px 2px rgba(60, 64, 67, 0.3), 0 1px 3px 1px rgba(60, 64, 67, 0.15);\n",
       "    fill: var(--button-hover-fill-color);\n",
       "  }\n",
       "\n",
       "  .colab-df-quickchart-complete:disabled,\n",
       "  .colab-df-quickchart-complete:disabled:hover {\n",
       "    background-color: var(--disabled-bg-color);\n",
       "    fill: var(--disabled-fill-color);\n",
       "    box-shadow: none;\n",
       "  }\n",
       "\n",
       "  .colab-df-spinner {\n",
       "    border: 2px solid var(--fill-color);\n",
       "    border-color: transparent;\n",
       "    border-bottom-color: var(--fill-color);\n",
       "    animation:\n",
       "      spin 1s steps(1) infinite;\n",
       "  }\n",
       "\n",
       "  @keyframes spin {\n",
       "    0% {\n",
       "      border-color: transparent;\n",
       "      border-bottom-color: var(--fill-color);\n",
       "      border-left-color: var(--fill-color);\n",
       "    }\n",
       "    20% {\n",
       "      border-color: transparent;\n",
       "      border-left-color: var(--fill-color);\n",
       "      border-top-color: var(--fill-color);\n",
       "    }\n",
       "    30% {\n",
       "      border-color: transparent;\n",
       "      border-left-color: var(--fill-color);\n",
       "      border-top-color: var(--fill-color);\n",
       "      border-right-color: var(--fill-color);\n",
       "    }\n",
       "    40% {\n",
       "      border-color: transparent;\n",
       "      border-right-color: var(--fill-color);\n",
       "      border-top-color: var(--fill-color);\n",
       "    }\n",
       "    60% {\n",
       "      border-color: transparent;\n",
       "      border-right-color: var(--fill-color);\n",
       "    }\n",
       "    80% {\n",
       "      border-color: transparent;\n",
       "      border-right-color: var(--fill-color);\n",
       "      border-bottom-color: var(--fill-color);\n",
       "    }\n",
       "    90% {\n",
       "      border-color: transparent;\n",
       "      border-bottom-color: var(--fill-color);\n",
       "    }\n",
       "  }\n",
       "</style>\n",
       "\n",
       "  <script>\n",
       "    async function quickchart(key) {\n",
       "      const quickchartButtonEl =\n",
       "        document.querySelector('#' + key + ' button');\n",
       "      quickchartButtonEl.disabled = true;  // To prevent multiple clicks.\n",
       "      quickchartButtonEl.classList.add('colab-df-spinner');\n",
       "      try {\n",
       "        const charts = await google.colab.kernel.invokeFunction(\n",
       "            'suggestCharts', [key], {});\n",
       "      } catch (error) {\n",
       "        console.error('Error during call to suggestCharts:', error);\n",
       "      }\n",
       "      quickchartButtonEl.classList.remove('colab-df-spinner');\n",
       "      quickchartButtonEl.classList.add('colab-df-quickchart-complete');\n",
       "    }\n",
       "    (() => {\n",
       "      let quickchartButtonEl =\n",
       "        document.querySelector('#df-646c0dc4-bfd0-4361-b417-3dbd841918fe button');\n",
       "      quickchartButtonEl.style.display =\n",
       "        google.colab.kernel.accessAllowed ? 'block' : 'none';\n",
       "    })();\n",
       "  </script>\n",
       "</div>\n",
       "    </div>\n",
       "  </div>\n"
      ],
      "text/plain": [
       "   alcohol  malic_acid   ash  alcalinity_of_ash  magnesium  total_phenols  \\\n",
       "0    14.23        1.71  2.43               15.6      127.0           2.80   \n",
       "1    13.20        1.78  2.14               11.2      100.0           2.65   \n",
       "2    13.16        2.36  2.67               18.6      101.0           2.80   \n",
       "3    14.37        1.95  2.50               16.8      113.0           3.85   \n",
       "4    13.24        2.59  2.87               21.0      118.0           2.80   \n",
       "\n",
       "   flavanoids  nonflavanoid_phenols  proanthocyanins  color_intensity   hue  \\\n",
       "0        3.06                  0.28             2.29             5.64  1.04   \n",
       "1        2.76                  0.26             1.28             4.38  1.05   \n",
       "2        3.24                  0.30             2.81             5.68  1.03   \n",
       "3        3.49                  0.24             2.18             7.80  0.86   \n",
       "4        2.69                  0.39             1.82             4.32  1.04   \n",
       "\n",
       "   od280/od315_of_diluted_wines  proline  \n",
       "0                          3.92   1065.0  \n",
       "1                          3.40   1050.0  \n",
       "2                          3.17   1185.0  \n",
       "3                          3.45   1480.0  \n",
       "4                          2.93    735.0  "
      ]
     },
     "execution_count": 4,
     "metadata": {},
     "output_type": "execute_result"
    }
   ],
   "source": [
    "wine_data = load_wine()\n",
    "\n",
    "wine_df = pd.DataFrame(data=wine_data.data, columns=wine_data.feature_names)\n",
    "wine_df.head()"
   ]
  },
  {
   "cell_type": "markdown",
   "metadata": {
    "id": "zC2cPCxmyBpR"
   },
   "source": [
    "-------------------------------------------"
   ]
  },
  {
   "cell_type": "markdown",
   "metadata": {
    "id": "uIGpt7c1yE8Z"
   },
   "source": [
    "## Job 16\n",
    "Une loi de probabilité décrit le comportement aléatoire d'un phénomène dépendant du hasard tels que les lancers de pièces, les dés, les jeux de cartes, et d'autres événements plus complexes.\n",
    "\n",
    "Considérons la Loi Normale, l'unes des plus importantes en probabilités et en statistique. Les lois normales sont parmi les lois de probabilité les plus utilisées pour modéliser des phénomènes naturels issus de plusieurs événements aléatoires. Elle est caractérisée par sa forme en cloche symétrique.\n",
    "\n",
    "**Simulez la Loi Normale $\\mathcal{N}(0, 1)$ où la moyenne est $0$ et l'écart-type est $1$ :**\n",
    "1. Générez des échantillons à partir de la distribution normale en utilisant la fonction `np.random.normal`\n",
    "\n",
    "2. Affichez l'histogramme des données\n",
    "\n",
    "3. Tracez la courbe de densité de probabilité théorique de $\\mathcal{N}(0, 1)$ en traçant la fonction $f(x)$ ci-dessous :\n",
    "\n",
    "$$ f(x) = \\frac{1}{1 \\sqrt{2\\pi}} \\times e^{-\\frac{1}{2} \\times x^2 }$$"
   ]
  },
  {
   "cell_type": "code",
   "execution_count": null,
   "metadata": {
    "id": "YL8L6xcCzoDQ"
   },
   "outputs": [],
   "source": []
  },
  {
   "cell_type": "markdown",
   "metadata": {
    "id": "MzR1Pu8BwXih"
   },
   "source": [
    "----------------------------------"
   ]
  },
  {
   "cell_type": "markdown",
   "metadata": {
    "id": "HM9Q73J0U9WB"
   },
   "source": [
    "# Calcul de dérivée"
   ]
  },
  {
   "cell_type": "markdown",
   "metadata": {
    "id": "EzuMXD8pP5CX"
   },
   "source": [
    "## Job 17\n",
    "\n",
    "En mathématiques, la dérivée d'une fonction d'une variable réelle mesure l'ampleur du changement de la valeur de la fonction (valeur de sortie) par rapport à un petit changement de son argument (valeur d'entrée). Les calculs de dérivées sont un outil fondamental du calcul infinitésimal. Par exemple, la dérivée de la position d'un objet en mouvement par rapport au temps est la vitesse (instantanée) de l'objet.\n",
    "\n",
    "\\\n",
    "\n",
    "Calculez la dérivée des fonctions suivantes à l'aide la librairie `SymPy` :\n",
    "\n",
    "1. $f(x) = 3x^2 - 2x + 5$\n",
    "\n",
    "2. $g(x) = \\frac{2}{x^2}$\n",
    "\n",
    "3. $h(x) = \\sqrt{3x - 1}$\n",
    "\n",
    "4. $k(x) = e^{x}$\n",
    "\n",
    "5. $l(x) = ln(x)$\n",
    "\n",
    "6. $p(x) = \\sqrt{x} + 2x^3$\n",
    "\n",
    "7. $q(x) = sin(x)$\n",
    "\n",
    "8. $r(x) = \\frac{x^2 + 1}{x-1}$"
   ]
  },
  {
   "cell_type": "code",
   "execution_count": null,
   "metadata": {
    "id": "v1S2lF7iUbGd"
   },
   "outputs": [],
   "source": []
  },
  {
   "cell_type": "markdown",
   "metadata": {
    "id": "lCCEJlbCYbOG"
   },
   "source": [
    "----------------------------------------------------------------------"
   ]
  },
  {
   "cell_type": "markdown",
   "metadata": {
    "id": "MF70NYVuJNty"
   },
   "source": [
    "# Toujours plus loin..."
   ]
  },
  {
   "cell_type": "markdown",
   "metadata": {
    "id": "uA0coLJoPxyx"
   },
   "source": [
    "## **Job Bonus 1**\n",
    "A l'aide de ce que vous avez appris dans le *job 16*, réalisez une simulation du **Théorème Central Limit**.\n",
    "\n",
    "*Pour des raisons d'organisation et de lisibilité de votre notebook, créez votre implémentation dans des fichiers .py que vous viendrez appeler à l'aide de la cellule ci-dessous :*"
   ]
  },
  {
   "cell_type": "code",
   "execution_count": null,
   "metadata": {
    "id": "RVbjzQVXP1kL"
   },
   "outputs": [],
   "source": []
  },
  {
   "cell_type": "markdown",
   "metadata": {
    "id": "iUoIMe-JYdrP"
   },
   "source": [
    "----------------------------------------------------------------------"
   ]
  },
  {
   "cell_type": "markdown",
   "metadata": {
    "id": "JIQ8RlMGwZyt"
   },
   "source": [
    "## **Job Bonus 2**\n",
    "\n",
    "**Un algorithme de tri, notion fondamentale en informatique ou en mathématiques, est un algorithme qui permet d'organiser une collection d'objets selon une relation d'ordre déterminée. Suivant la relation d'ordre considérée, une même collection d’objet peut donner lieu à divers arrangements.**\n",
    "\n",
    "Par exemple, on pourrait trier un tableau `tab` d'entiers naturels de $1$ à $N$ dans un ordre croissant ou décroissant.\n",
    "\n",
    "L'implémentation des algorithmes de tri est un excellent exercice pour comprendre des concepts fondamentaux de la programmation, comprendre d'autres algorithmes et se préparer à des entretiens techniques.\n",
    "\n",
    "Tentez d'implémenter un ou plusieurs des algorithmes de tri suivants :\n",
    "\n",
    "* **Tri à bulles (bubble sort)**\n",
    "* **Tri par insertion (Insertion sort)**\n",
    "* **Tri fusion (merge sort)**\n",
    "* **Tri rapide (quick sort)**\n",
    "\n",
    "\n",
    "\n",
    "*Pour des raisons d'organisation et lisibilité de votre notebook, créez vos différentes implémentations des algorithmes de tri dans des fichiers .py que vous viendrez appeler à l'aide de la cellule ci-dessous :*"
   ]
  },
  {
   "cell_type": "code",
   "execution_count": null,
   "metadata": {
    "id": "q3BmeEQSxM0g"
   },
   "outputs": [],
   "source": [
    "# Example of a list to be sorted - feel free to try something else!\n",
    "\n",
    "input_list = [64, 34, 25, 12, 22, 11, 90]\n",
    "\n",
    "print(\"This is my original list:\", input_list)\n",
    "\n",
    "# Tri de la list à l'aide d'un algorithme donné - ?\n",
    "sorted_list = some_sorting_alg(input_list)\n",
    "\n",
    "print(\"This is my sorted list:\", sorted_list)"
   ]
  }
 ],
 "metadata": {
  "colab": {
   "provenance": [],
   "toc_visible": true
  },
  "kernelspec": {
   "display_name": "Python 3",
   "language": "python",
   "name": "python3"
  },
  "language_info": {
   "codemirror_mode": {
    "name": "ipython",
    "version": 3
   },
   "file_extension": ".py",
   "mimetype": "text/x-python",
   "name": "python",
   "nbconvert_exporter": "python",
   "pygments_lexer": "ipython3",
   "version": "3.12.7"
  }
 },
 "nbformat": 4,
 "nbformat_minor": 4
}
